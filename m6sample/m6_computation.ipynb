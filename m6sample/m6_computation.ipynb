{
 "cells": [
  {
   "cell_type": "markdown",
   "metadata": {},
   "source": [
    "# Monogenic functions step by step\n",
    "## Ulises Moya, Sebastian Salazar Colores, Sebastián Xambó, Abraham Sánchez, and Ulises Cortés \n",
    "### March 2019\n",
    "\n",
    "---\n",
    "\n",
    "The main goal of this  notebook is  explain step by step the monogenic m6 computation. The main function is `monogenic_functions`"
   ]
  },
  {
   "cell_type": "code",
   "execution_count": 1,
   "metadata": {},
   "outputs": [
    {
     "name": "stderr",
     "output_type": "stream",
     "text": [
      "Using TensorFlow backend.\n"
     ]
    }
   ],
   "source": [
    "import keras\n",
    "from keras.datasets import cifar10\n",
    "import numpy as np\n",
    "import cv2\n",
    "import matplotlib.pyplot as plt\n",
    "import monogenic_functions as mf\n",
    "from tools import perfft2, fft2, ifft2\n",
    "from sklearn.preprocessing import minmax_scale"
   ]
  },
  {
   "cell_type": "markdown",
   "metadata": {},
   "source": [
    "Loading a 3 channels image"
   ]
  },
  {
   "cell_type": "code",
   "execution_count": 2,
   "metadata": {},
   "outputs": [],
   "source": [
    "(x_train, y_train), (x_test, y_test) = cifar10.load_data()"
   ]
  },
  {
   "cell_type": "code",
   "execution_count": 3,
   "metadata": {},
   "outputs": [
    {
     "data": {
      "text/plain": [
       "<matplotlib.image.AxesImage at 0x1fe414930f0>"
      ]
     },
     "execution_count": 3,
     "metadata": {},
     "output_type": "execute_result"
    },
    {
     "data": {
      "image/png": "[encoded data removed]",
      "text/plain": [
       "<Figure size 432x288 with 1 Axes>"
      ]
     },
     "metadata": {
      "needs_background": "light"
     },
     "output_type": "display_data"
    }
   ],
   "source": [
    "plt.imshow(x_train[1])"
   ]
  },
  {
   "cell_type": "code",
   "execution_count": 4,
   "metadata": {},
   "outputs": [],
   "source": [
    "#rows, cols, chann = x_train[0].shape\n",
    "img=x_train[1]\n",
    "# float point is very important in order to compute the fft2\n",
    "if img.dtype not in ['float32', 'float64']:\n",
    "    img = np.float64(img)\n",
    "    imgdtype = 'float64'\n",
    "else:\n",
    "    imgdtype = img.dtype\n",
    "# for 3 channel we  make one channel computing the mean value\n",
    "if img.ndim == 3:  # hay que cambiar esto\n",
    "    img = img.mean(2)\n",
    "rows, cols = img.shape"
   ]
  },
  {
   "cell_type": "markdown",
   "metadata": {},
   "source": [
    "The  python function\n",
    "\n",
    "```\n",
    "monogenic_scale(cols=cols,rows=rows, ss=ss,  minWaveLength=mw, mult=mlt, sigmaOnf=sig)\n",
    "```\n",
    "computes the monnogenic filters `logGabor, logGabor_H1, logGabor_H2` at scale ss, in $frequency$ $domain$ using the  you can see more retail of this function in `monogenic_functions.py`. The input parameters of the monogenic scale function are\n",
    "\n",
    "**Input**\n",
    "\n",
    "ss, Scale\n",
    "mw, Minimun wavelet\n",
    "mlt, Multiplicator between each scale\n",
    "sig, Sigma (size of the Log-Gabor)\n",
    "\n",
    "**Output**\n",
    "\n",
    "3 filters in freq domian  `logGabor, logGabor_H1, logGabor_H2` "
   ]
  },
  {
   "cell_type": "code",
   "execution_count": 5,
   "metadata": {},
   "outputs": [],
   "source": [
    "logGabor, logGabor_H1, logGabor_H2 = mf.monogenic_scale(cols=cols,\n",
    "                                                        rows=rows,\n",
    "                                                        ss=1, \n",
    "                                                        minWaveLength=2,\n",
    "                                                        mult=2,\n",
    "                                                        sigmaOnf=0.3)"
   ]
  },
  {
   "cell_type": "markdown",
   "metadata": {},
   "source": [
    "It is possible to see the geometric relation of the  frequency  domian components of `logGabor, logGabor_H1, logGabor_H2`  in 3D space (quadrature filters) if we  put,  elements from `logGabor` at $z-axis$,  `logGabor_H1` at $x-axis$ and  `logGabor_H2`   $y-axis$. "
   ]
  },
  {
   "cell_type": "code",
   "execution_count": 6,
   "metadata": {},
   "outputs": [],
   "source": [
    "# Compute the FFT2D in the corner\n",
    "_, IM = perfft2(img)  # periodic Fourier transform of image\n",
    "IMF = IM * logGabor   # Frequency bandpassed image\n",
    "# Bandpassed monogenic filtering in frequency space, real part of h contains\n",
    "IMH1=IM*logGabor_H1\n",
    "IMH2=IM*logGabor_H2"
   ]
  },
  {
   "cell_type": "code",
   "execution_count": 7,
   "metadata": {},
   "outputs": [
    {
     "data": {
      "image/png": "[encoded data removed]",
      "text/plain": [
       "<Figure size 432x288 with 3 Axes>"
      ]
     },
     "metadata": {},
     "output_type": "display_data"
    }
   ],
   "source": [
    "plt.subplot(131),plt.imshow(np.real(ifft2(IMF)), cmap = 'gray')\n",
    "plt.title('$R$'), plt.xticks([]), plt.yticks([])\n",
    "plt.subplot(132),plt.imshow(np.real(ifft2(IMH1)), cmap = 'gray')\n",
    "plt.title('$i$'), plt.xticks([]), plt.yticks([])\n",
    "plt.xlabel('Space domain')\n",
    "plt.subplot(133),plt.imshow(np.real(ifft2(IMH2)), cmap = 'gray')\n",
    "plt.title('$j$'), plt.xticks([]), plt.yticks([])\n",
    "plt.show()"
   ]
  },
  {
   "cell_type": "code",
   "execution_count": 8,
   "metadata": {},
   "outputs": [],
   "source": [
    "# Spatially bandpassed image\n",
    "f = np.real(ifft2(IMF))  \n",
    "h1= np.real(ifft2(IMH1))\n",
    "h2= np.real(ifft2(IMH2))"
   ]
  },
  {
   "cell_type": "code",
   "execution_count": 9,
   "metadata": {},
   "outputs": [],
   "source": [
    "#Compute the geometric components\n",
    "# Amplitude of this scale component\n",
    "an = np.sqrt(f * f + h1 * h1 + h2 * h2)\n",
    "# Final computation of key quantities\n",
    "ori = np.arctan(-h2 / h1)\n",
    "# Wrap angles between -pi and pi and convert radians to degrees\n",
    "ori_d = np.fix((ori % np.pi) / np.pi * 180.)\n",
    "# Feature type (a phase angle between -pi/2 and pi/2)\n",
    "ft = np.arctan2(f, np.sqrt(h1 * h1 + h2 * h2))\n",
    "#proyection on ij plane\n",
    "fr= np.sqrt(h1 * h1 + h2 * h2)"
   ]
  },
  {
   "cell_type": "code",
   "execution_count": 10,
   "metadata": {},
   "outputs": [],
   "source": [
    "oris = np.floor(minmax_scale(ori)*179).astype('uint8')\n",
    "fts = np.floor(minmax_scale(ft)*179).astype('uint8')\n",
    "frs = np.floor(minmax_scale(fr)*255).astype('uint8')\n",
    "ones = (np.ones((img.shape))*255).astype('uint8')"
   ]
  },
  {
   "cell_type": "code",
   "execution_count": 11,
   "metadata": {},
   "outputs": [],
   "source": [
    "hsvimg = cv2.merge((fts, frs, ones))\n",
    "bgrimg = cv2.cvtColor(hsvimg, cv2.COLOR_HSV2BGR)\n",
    "rgbimg = cv2.cvtColor(bgrimg, cv2.COLOR_BGR2RGB)\n",
    "r, g, b = cv2.split(rgbimg)\n",
    "\n",
    "hsvimg2 = cv2.merge((oris, frs, ones))\n",
    "bgrimg2 = cv2.cvtColor(hsvimg2, cv2.COLOR_HSV2BGR)\n",
    "rgbimg2 = cv2.cvtColor(bgrimg2, cv2.COLOR_BGR2RGB)\n",
    "r2, g2, b2 = cv2.split(rgbimg2)"
   ]
  },
  {
   "cell_type": "code",
   "execution_count": 12,
   "metadata": {},
   "outputs": [
    {
     "data": {
      "image/png": "[encoded data removed]",
      "text/plain": [
       "<Figure size 360x360 with 8 Axes>"
      ]
     },
     "metadata": {
      "needs_background": "light"
     },
     "output_type": "display_data"
    }
   ],
   "source": [
    "#Display each componenent in RGB color space\n",
    "fig, ax = plt.subplots(2,4,figsize=(5, 5))\n",
    "[axi.set_axis_off() for axi in ax.ravel()]\n",
    "ax[0,0].imshow(rgbimg, cmap = 'gray') \n",
    "ax[0,1].imshow(r, cmap = 'gray')   \n",
    "ax[0,2].imshow(g, cmap = 'gray')  \n",
    "ax[0,3].imshow(b, cmap = 'gray')  \n",
    "ax[1,0].imshow(rgbimg2, cmap = 'gray') #image\n",
    "ax[1,1].imshow(r2, cmap = 'gray')      #filterimage\n",
    "ax[1,2].imshow(g2, cmap = 'gray')  \n",
    "ax[1,3].imshow(b2, cmap = 'gray')  \n",
    "plt.subplots_adjust(wspace=0.01, hspace=0)\n",
    "plt.show()"
   ]
  },
  {
   "cell_type": "code",
   "execution_count": null,
   "metadata": {},
   "outputs": [],
   "source": []
  }
 ],
 "metadata": {
  "kernelspec": {
   "display_name": "Python 3",
   "language": "python",
   "name": "python3"
  },
  "language_info": {
   "codemirror_mode": {
    "name": "ipython",
    "version": 3
   },
   "file_extension": ".py",
   "mimetype": "text/x-python",
   "name": "python",
   "nbconvert_exporter": "python",
   "pygments_lexer": "ipython3",
   "version": "3.6.8"
  }
 },
 "nbformat": 4,
 "nbformat_minor": 2
}
